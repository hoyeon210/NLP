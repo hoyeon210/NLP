{
 "cells": [
  {
   "cell_type": "code",
   "execution_count": 1,
   "id": "892c73b9-2d47-4220-b44f-81934754fbbf",
   "metadata": {},
   "outputs": [],
   "source": [
    "# 유효한 이메일인지, 유효한 전화번호인지 확인할때 씀 "
   ]
  },
  {
   "cell_type": "markdown",
   "id": "870e1589-e5a8-43b6-a63f-a284a0304084",
   "metadata": {},
   "source": [
    "### 대괄호([]) 사이의 문자와 매칭하라는 의미\n",
    "- 대괄호 사이의 문자는 기본적으로 OR 조합\n",
    "- [abc] 해당 텍스트에 a 또는 b 또는 c라는 문자가 있는지 검사\n",
    "- [Tt]om : Tom 또는 tom을 찾음"
   ]
  },
  {
   "cell_type": "code",
   "execution_count": 2,
   "id": "93853f68-5823-4442-88a0-794aaf75d882",
   "metadata": {},
   "outputs": [],
   "source": [
    "import re"
   ]
  },
  {
   "cell_type": "code",
   "execution_count": 3,
   "id": "0d2142cf-9c5b-4722-8d86-2ee169b482ee",
   "metadata": {},
   "outputs": [
    {
     "name": "stdout",
     "output_type": "stream",
     "text": [
      "<re.Match object; span=(0, 3), match='Tom'>\n"
     ]
    }
   ],
   "source": [
    "p = re.compile(r'[Tt]om')\n",
    "result = p.match('Tom is a student')\n",
    "print(result)"
   ]
  },
  {
   "cell_type": "code",
   "execution_count": 4,
   "id": "3bc2d7c1-4bad-41f8-b4cf-c8135dba0cb6",
   "metadata": {},
   "outputs": [
    {
     "name": "stdout",
     "output_type": "stream",
     "text": [
      "None\n"
     ]
    }
   ],
   "source": [
    "result = p.match('My name is Tom')\n",
    "print(result)"
   ]
  },
  {
   "cell_type": "code",
   "execution_count": 5,
   "id": "f9670d19-1e05-49f3-b0ba-40e0328b5e03",
   "metadata": {},
   "outputs": [],
   "source": [
    "# 대문자 또는 소문자 t로 시작 하는 문자를 찾는거! my name is tom은 못찾음"
   ]
  },
  {
   "cell_type": "code",
   "execution_count": 7,
   "id": "23c85fc1-f3b1-489d-92b6-e5634867cfa8",
   "metadata": {},
   "outputs": [
    {
     "name": "stdout",
     "output_type": "stream",
     "text": [
      "None\n"
     ]
    }
   ],
   "source": [
    "result = re.match(r'[A-Za-z][0-9]', '12345')\n",
    "print(result)"
   ]
  },
  {
   "cell_type": "code",
   "execution_count": 8,
   "id": "2dc22ef7-af0b-4b6b-b95e-08383bdb5e0b",
   "metadata": {},
   "outputs": [],
   "source": [
    "#첫글자가 알파벳, 두번째는 숫자인지 찾아라. 12345는 첫번째가 알파벳이 아니라 none"
   ]
  },
  {
   "cell_type": "code",
   "execution_count": 9,
   "id": "148f9048-019e-494f-b101-0069add3d1c0",
   "metadata": {},
   "outputs": [
    {
     "name": "stdout",
     "output_type": "stream",
     "text": [
      "<re.Match object; span=(0, 2), match='k1'>\n"
     ]
    }
   ],
   "source": [
    "result = re.match(r'[A-Za-z][0-9]', 'k12345')\n",
    "print(result)"
   ]
  },
  {
   "cell_type": "code",
   "execution_count": 10,
   "id": "b80be59d-2ddf-4862-9459-ae022166c773",
   "metadata": {},
   "outputs": [
    {
     "name": "stdout",
     "output_type": "stream",
     "text": [
      "None\n"
     ]
    }
   ],
   "source": [
    "result = re.match(r'[A-Za-z][0-9]', 'ka12345')\n",
    "print(result)"
   ]
  },
  {
   "cell_type": "markdown",
   "id": "41aa1661-3560-4d68-a735-ff0e09dde888",
   "metadata": {},
   "source": [
    "### 반복 메타 문자\n",
    "- 휴대폰 번호  \n",
    "- 위의 방식으로 휴대전화 번호 매칭 방법  \n",
    "[0-9][0-9][0-9]-[0-9][0-9][0-9][0-9]-[0-9][0-9][0-9][0-9]"
   ]
  },
  {
   "cell_type": "markdown",
   "id": "60d11b0f-f8c7-41e3-ae32-5db787635517",
   "metadata": {},
   "source": [
    "- '+' 한 개 이상 출현  \n",
    "- [0-9]+-[0-9]+-[0-9]+  \n",
    "하지만 여전히 문제, 기존 3-3-4 자리 사용하는 번호도 존재"
   ]
  },
  {
   "cell_type": "markdown",
   "id": "3bed590c-b0ad-4d9d-b80e-d5cdf267e7bf",
   "metadata": {},
   "source": [
    "- {} 는 반복 회수를 지정  \n",
    "- {0,} - 0번 이상 출현  \n",
    "- {1,} - 1번 이상 출현  \n",
    "- {1,3} - 1번에서 3번까지 출현"
   ]
  },
  {
   "cell_type": "markdown",
   "id": "bfce5e8f-71a7-4db8-8e5f-193ebd55a3ca",
   "metadata": {},
   "source": [
    "- 위 휴대전화 번호를 아래와 같이 변경  \n",
    "- [0-9]{3}-[0-9]{3,4}-[0-9]{4}"
   ]
  },
  {
   "cell_type": "markdown",
   "id": "cff0b675-3f98-45fa-8998-0c62b60e082b",
   "metadata": {},
   "source": [
    "- 국번은 010, 011, 019, 017, 018, 016 존재  \n",
    "- 01[016789]-[0-9]{3,4}-[0-9]{4}"
   ]
  },
  {
   "cell_type": "code",
   "execution_count": 13,
   "id": "ccea0158-b6be-4e9c-b308-99df339ccc42",
   "metadata": {},
   "outputs": [
    {
     "name": "stdout",
     "output_type": "stream",
     "text": [
      "<re.Match object; span=(0, 13), match='010-3762-9138'>\n"
     ]
    }
   ],
   "source": [
    "p = re.compile(r'01[016789]-[0-9]{3,4}-[0-9]{4}')\n",
    "result = p.match('010-3762-9138')\n",
    "print(result)"
   ]
  },
  {
   "cell_type": "code",
   "execution_count": 14,
   "id": "21af3894-6c44-4041-947a-fd1969fe973a",
   "metadata": {},
   "outputs": [
    {
     "name": "stdout",
     "output_type": "stream",
     "text": [
      "None\n"
     ]
    }
   ],
   "source": [
    "p = re.compile(r'01[016789]-[0-9]{3,4}-[0-9]{4}')\n",
    "result = p.match('010-a286-9138')\n",
    "print(result)"
   ]
  },
  {
   "cell_type": "code",
   "execution_count": 15,
   "id": "2eaaa863-0593-4d69-9363-90620d1ea8c3",
   "metadata": {},
   "outputs": [
    {
     "name": "stdout",
     "output_type": "stream",
     "text": [
      "None\n"
     ]
    }
   ],
   "source": [
    "result = p.match('015-1286-9138')\n",
    "print(result)"
   ]
  },
  {
   "cell_type": "markdown",
   "id": "ff7c2a45-d9b1-4fec-aeba-9c8d1a8b531e",
   "metadata": {},
   "source": [
    "### '*' 0번 이상 반복"
   ]
  },
  {
   "cell_type": "code",
   "execution_count": 16,
   "id": "f87ab487-1bba-4524-b087-45b1aa11fa49",
   "metadata": {},
   "outputs": [
    {
     "name": "stdout",
     "output_type": "stream",
     "text": [
      "<re.Match object; span=(0, 7), match='abc3def'>\n"
     ]
    }
   ],
   "source": [
    "p = re.compile(r'abc[0-9]*def')\n",
    "result = p.match('abc3def')\n",
    "print(result)"
   ]
  },
  {
   "cell_type": "code",
   "execution_count": 17,
   "id": "8947718b-b48a-406d-b21c-db67b55d07fe",
   "metadata": {},
   "outputs": [
    {
     "name": "stdout",
     "output_type": "stream",
     "text": [
      "<re.Match object; span=(0, 9), match='abc456def'>\n"
     ]
    }
   ],
   "source": [
    "result = p.match('abc456def')\n",
    "print(result)"
   ]
  },
  {
   "cell_type": "code",
   "execution_count": 18,
   "id": "1cea5d63-886d-42ce-a227-d1d89f92c99d",
   "metadata": {},
   "outputs": [
    {
     "name": "stdout",
     "output_type": "stream",
     "text": [
      "<re.Match object; span=(0, 6), match='abcdef'>\n"
     ]
    }
   ],
   "source": [
    "result = p.match('abcdef')\n",
    "print(result)"
   ]
  },
  {
   "cell_type": "code",
   "execution_count": 19,
   "id": "f9951ea0-78f8-41f3-bc30-7645408c46ec",
   "metadata": {},
   "outputs": [
    {
     "name": "stdout",
     "output_type": "stream",
     "text": [
      "<re.Match object; span=(0, 4), match='1abc'>\n"
     ]
    }
   ],
   "source": [
    "p = re.compile(r'[^5]abc') #5만 아니면 돼, 공백도 안돼\n",
    "result = p.match('1abc')\n",
    "print(result)"
   ]
  },
  {
   "cell_type": "code",
   "execution_count": 20,
   "id": "2c618574-1928-49a4-9777-2b3b9e69b8f0",
   "metadata": {},
   "outputs": [
    {
     "name": "stdout",
     "output_type": "stream",
     "text": [
      "None\n"
     ]
    }
   ],
   "source": [
    "result = p.match('abc')\n",
    "print(result)"
   ]
  },
  {
   "cell_type": "code",
   "execution_count": 21,
   "id": "84e35cb9-35a9-4237-bbc3-a67d90e826ed",
   "metadata": {},
   "outputs": [
    {
     "name": "stdout",
     "output_type": "stream",
     "text": [
      "None\n"
     ]
    }
   ],
   "source": [
    "result = p.match('234abc') # 세자리라 안돼!\n",
    "print(result)"
   ]
  },
  {
   "cell_type": "code",
   "execution_count": 22,
   "id": "3d9020a1-31df-4fe6-ba4f-9dca8b14ce40",
   "metadata": {},
   "outputs": [
    {
     "name": "stdout",
     "output_type": "stream",
     "text": [
      "<re.Match object; span=(0, 4), match='tabc'>\n"
     ]
    }
   ],
   "source": [
    "result = p.match('tabc') # 5아니니까 문자도 됨.\n",
    "print(result)"
   ]
  },
  {
   "cell_type": "code",
   "execution_count": 23,
   "id": "29f60c16-7033-46e4-bde1-76b68083f51d",
   "metadata": {},
   "outputs": [
    {
     "name": "stdout",
     "output_type": "stream",
     "text": [
      "None\n"
     ]
    }
   ],
   "source": [
    "result = p.match('5abc')\n",
    "print(result)"
   ]
  },
  {
   "cell_type": "code",
   "execution_count": 24,
   "id": "8a688e5b-52f0-4ebd-a690-c05129112a06",
   "metadata": {},
   "outputs": [
    {
     "name": "stdout",
     "output_type": "stream",
     "text": [
      "<re.Match object; span=(0, 6), match='abcdef'>\n"
     ]
    }
   ],
   "source": [
    "p = re.compile(r'abc[0-9]?def') #물음표는 0번 또는 1번 등장하면 됨\n",
    "result = p.match('abcdef')\n",
    "print(result)"
   ]
  },
  {
   "cell_type": "code",
   "execution_count": 25,
   "id": "acba2041-59be-4df0-89c5-8e04093a0fcd",
   "metadata": {},
   "outputs": [
    {
     "name": "stdout",
     "output_type": "stream",
     "text": [
      "<re.Match object; span=(0, 7), match='abc4def'>\n"
     ]
    }
   ],
   "source": [
    "result = p.match('abc4def')\n",
    "print(result)"
   ]
  },
  {
   "cell_type": "code",
   "execution_count": 26,
   "id": "d0835972-3222-49e5-bf21-696f0fa66a22",
   "metadata": {},
   "outputs": [
    {
     "name": "stdout",
     "output_type": "stream",
     "text": [
      "None\n"
     ]
    }
   ],
   "source": [
    "result = p.match('abc48def') #2번이라 안됨!\n",
    "print(result)"
   ]
  },
  {
   "cell_type": "code",
   "execution_count": 27,
   "id": "f9537cbc-351c-4db6-925e-eee588248c2d",
   "metadata": {},
   "outputs": [
    {
     "name": "stdout",
     "output_type": "stream",
     "text": [
      "<re.Match object; span=(0, 6), match='3defr9'>\n"
     ]
    }
   ],
   "source": [
    "p = re.compile(r'^3[A-Za-z]+9$') #반드시 3으로 나오고, 알파벳 하나가 나오고, 마지막은 9로 끝내야해\n",
    "print(p.match('3defr9'))"
   ]
  },
  {
   "cell_type": "code",
   "execution_count": 28,
   "id": "b9f4e581-2866-4dd8-81e2-7613d69e4349",
   "metadata": {},
   "outputs": [
    {
     "name": "stdout",
     "output_type": "stream",
     "text": [
      "None\n"
     ]
    }
   ],
   "source": [
    "print(p.match('defr9')) # 3으로 시작하지 않으니까 none"
   ]
  },
  {
   "cell_type": "code",
   "execution_count": 29,
   "id": "ccec6a3d-46fe-4d37-a2b7-5ee28e3b822d",
   "metadata": {},
   "outputs": [
    {
     "name": "stdout",
     "output_type": "stream",
     "text": [
      "None\n"
     ]
    }
   ],
   "source": [
    "print(p.match('34defr9')) #숫자하나만 나오고 알파벳이어야하는데 숫자2개라 none"
   ]
  },
  {
   "cell_type": "code",
   "execution_count": 30,
   "id": "9a43aecd-5838-4bb8-ad62-d8e74e96a0d1",
   "metadata": {},
   "outputs": [
    {
     "name": "stdout",
     "output_type": "stream",
     "text": [
      "None\n"
     ]
    }
   ],
   "source": [
    "print(p.match('3defr98')) #숫자8로 끝나서 none"
   ]
  },
  {
   "cell_type": "code",
   "execution_count": 31,
   "id": "acd95e4a-3063-42f7-9bad-3735753929be",
   "metadata": {},
   "outputs": [
    {
     "name": "stdout",
     "output_type": "stream",
     "text": [
      "<re.Match object; span=(0, 3), match='4p8'>\n"
     ]
    }
   ],
   "source": [
    "p = re.compile(r'[0-9].8$') #온점은 뭐가 와도 상관없음\n",
    "print(p.match('4p8'))"
   ]
  },
  {
   "cell_type": "code",
   "execution_count": 32,
   "id": "d5401e55-c731-45ec-8bba-12395862bf51",
   "metadata": {},
   "outputs": [
    {
     "name": "stdout",
     "output_type": "stream",
     "text": [
      "<re.Match object; span=(0, 3), match='448'>\n"
     ]
    }
   ],
   "source": [
    "p = re.compile(r'[0-9].8$')\n",
    "print(p.match('448'))"
   ]
  },
  {
   "cell_type": "code",
   "execution_count": 33,
   "id": "4971ef72-4104-416c-b54f-38e2c5cc8326",
   "metadata": {},
   "outputs": [
    {
     "name": "stdout",
     "output_type": "stream",
     "text": [
      "None\n"
     ]
    }
   ],
   "source": [
    "print(p.match('48')) # 온점자리에 아무것도 안왔으니 안됨"
   ]
  },
  {
   "cell_type": "code",
   "execution_count": 34,
   "id": "5838d3e6-8bda-4577-9ea8-ba14ba159a2d",
   "metadata": {},
   "outputs": [
    {
     "name": "stdout",
     "output_type": "stream",
     "text": [
      "<re.Match object; span=(0, 4), match='1abc'>\n"
     ]
    }
   ],
   "source": [
    "p = re.compile(r'\\dabc') #소문자 d는 숫자가 와야해\n",
    "print(p.match('1abc'))"
   ]
  },
  {
   "cell_type": "code",
   "execution_count": 35,
   "id": "f4c931ba-f094-4839-84e7-cb08c4c10908",
   "metadata": {},
   "outputs": [
    {
     "name": "stdout",
     "output_type": "stream",
     "text": [
      "None\n"
     ]
    }
   ],
   "source": [
    "print(p.match('122abc')) # 숫자가 하나여야해"
   ]
  },
  {
   "cell_type": "code",
   "execution_count": 36,
   "id": "7b21d214-d5d7-4679-8967-2e1b65749749",
   "metadata": {},
   "outputs": [
    {
     "name": "stdout",
     "output_type": "stream",
     "text": [
      "None\n"
     ]
    }
   ],
   "source": [
    "print(p.match('qabc')) #숫자가 아니라 문자라서 안됨"
   ]
  },
  {
   "cell_type": "code",
   "execution_count": 37,
   "id": "46cc3b28-f7a3-4935-9ae0-96185251b1ec",
   "metadata": {},
   "outputs": [
    {
     "name": "stdout",
     "output_type": "stream",
     "text": [
      "<re.Match object; span=(0, 4), match='a123'>\n"
     ]
    }
   ],
   "source": [
    "p = re.compile(r'\\D123') #대문자 D는 숫자가 오면 안됨\n",
    "print(p.match('a123'))"
   ]
  },
  {
   "cell_type": "code",
   "execution_count": 38,
   "id": "f727b49a-d0cb-498d-9580-bbdb9e0c0267",
   "metadata": {},
   "outputs": [
    {
     "name": "stdout",
     "output_type": "stream",
     "text": [
      "None\n"
     ]
    }
   ],
   "source": [
    "print(p.match('5123'))"
   ]
  },
  {
   "cell_type": "code",
   "execution_count": 39,
   "id": "036affe9-5792-47ea-af9e-4bd1ef2fd533",
   "metadata": {},
   "outputs": [
    {
     "name": "stdout",
     "output_type": "stream",
     "text": [
      "<re.Match object; span=(0, 6), match='abc 76'>\n"
     ]
    }
   ],
   "source": [
    "p = re.compile(r'abc\\s[0-9]+') #s는 스페이스가 오면됨\n",
    "print(p.match('abc 76'))"
   ]
  },
  {
   "cell_type": "code",
   "execution_count": 40,
   "id": "65d56154-afb0-4831-a22d-882b13018dc0",
   "metadata": {},
   "outputs": [
    {
     "name": "stdout",
     "output_type": "stream",
     "text": [
      "None\n"
     ]
    }
   ],
   "source": [
    "print(p.match('abc76'))"
   ]
  },
  {
   "cell_type": "code",
   "execution_count": 41,
   "id": "7a5ca1d0-98e5-45ab-be09-d0859389d0d5",
   "metadata": {},
   "outputs": [
    {
     "name": "stdout",
     "output_type": "stream",
     "text": [
      "None\n"
     ]
    }
   ],
   "source": [
    "p = re.compile(r'abc\\S[0-9]+') #대문자 S는 NON-SPACE\n",
    "print(p.match('abc 76'))"
   ]
  },
  {
   "cell_type": "code",
   "execution_count": 42,
   "id": "a3c93810-890d-4f71-b325-ce359a777660",
   "metadata": {},
   "outputs": [
    {
     "name": "stdout",
     "output_type": "stream",
     "text": [
      "<re.Match object; span=(0, 6), match='abcp76'>\n"
     ]
    }
   ],
   "source": [
    "print(p.match('abcp76')) #스페이스 아니면 다됨"
   ]
  },
  {
   "cell_type": "code",
   "execution_count": 44,
   "id": "ea75b71a-2591-4c9d-92b8-ee94a070a62f",
   "metadata": {},
   "outputs": [
    {
     "name": "stdout",
     "output_type": "stream",
     "text": [
      "<re.Match object; span=(0, 7), match='f948484'>\n"
     ]
    }
   ],
   "source": [
    "p = re.compile(r'\\w[0-9]+') #\\w는 알파벳이나 숫자가 올수있음\n",
    "print(p.match('f948484'))"
   ]
  },
  {
   "cell_type": "code",
   "execution_count": 45,
   "id": "bf024ef9-09ec-4eca-8c79-c692ea53a7a5",
   "metadata": {},
   "outputs": [
    {
     "name": "stdout",
     "output_type": "stream",
     "text": [
      "None\n"
     ]
    }
   ],
   "source": [
    "print(p.match('-f948484')) #알파벳, 숫자아니라서 안됨"
   ]
  },
  {
   "cell_type": "code",
   "execution_count": 48,
   "id": "0d36ee05-fc7f-4efa-a380-1f5e554a5a81",
   "metadata": {},
   "outputs": [
    {
     "name": "stdout",
     "output_type": "stream",
     "text": [
      "<re.Match object; span=(0, 7), match='-948484'>\n"
     ]
    }
   ],
   "source": [
    "p = re.compile(r'\\W[0-9]+') #\\W는 알파벳이나 숫자 외 다른것은 올수있음\n",
    "print(p.match('-948484'))"
   ]
  },
  {
   "cell_type": "code",
   "execution_count": 49,
   "id": "f753a4ca-5f58-44d0-bdd6-cf73346b9210",
   "metadata": {},
   "outputs": [
    {
     "name": "stdout",
     "output_type": "stream",
     "text": [
      "None\n"
     ]
    }
   ],
   "source": [
    "print(p.match('r948484')) #알파벳이라 안됨"
   ]
  },
  {
   "cell_type": "markdown",
   "id": "48fb0846-692d-4311-a0f8-83f4deecd131",
   "metadata": {},
   "source": [
    "### 이메일 정규표현식\n",
    "- ^[\\w.%+\\-]+@[\\w.\\-]+\\.[A-Za-z]{2,3}$"
   ]
  },
  {
   "cell_type": "markdown",
   "id": "8039d8eb-0925-4960-bb95-39656de5d8d8",
   "metadata": {},
   "source": [
    "### URL 정규 표현식\n",
    "- https?:\\/\\/(www\\.)?[-a-zA-Z0-9@:%._\\+~#=]{1,256}\\.[a-zA-Z0-9()]{1,6}\\b([-a-zA-Z0-9()@:%_\\+.~#?&//=]*)"
   ]
  },
  {
   "cell_type": "code",
   "execution_count": null,
   "id": "35858581-32ef-4854-ba5e-377e26048bb3",
   "metadata": {},
   "outputs": [],
   "source": []
  }
 ],
 "metadata": {
  "kernelspec": {
   "display_name": "Python 3 (ipykernel)",
   "language": "python",
   "name": "python3"
  },
  "language_info": {
   "codemirror_mode": {
    "name": "ipython",
    "version": 3
   },
   "file_extension": ".py",
   "mimetype": "text/x-python",
   "name": "python",
   "nbconvert_exporter": "python",
   "pygments_lexer": "ipython3",
   "version": "3.8.11"
  }
 },
 "nbformat": 4,
 "nbformat_minor": 5
}
