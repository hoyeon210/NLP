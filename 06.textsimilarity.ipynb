{
 "cells": [
  {
   "cell_type": "code",
   "execution_count": 1,
   "id": "979b323b-1f34-4c71-803e-83bd87e3d1f3",
   "metadata": {},
   "outputs": [],
   "source": [
    "import numpy as np\n",
    "from sklearn.feature_extraction.text import TfidfVectorizer"
   ]
  },
  {
   "cell_type": "code",
   "execution_count": 2,
   "id": "3a4005e1-7492-4431-86a0-d3d67eb28951",
   "metadata": {},
   "outputs": [],
   "source": [
    "sent = (\"휴일 인 오늘 도 서쪽 을 중심 으로 폭염 이 이어졌는데요, 내일 은 반가운 비 소식 이 있습니다.\", \\\n",
    "        \"폭염 을 피해서 휴일 에 놀러왔다가 갑작스런 비 로 인해 망연자실 하고 있습니다.\") \n",
    "tfidf_vectorizer = TfidfVectorizer()\n",
    "tfidf_matrix = tfidf_vectorizer.fit_transform(sent)"
   ]
  },
  {
   "cell_type": "code",
   "execution_count": 3,
   "id": "ea20f174-5b2e-4341-bec6-ed2138c83420",
   "metadata": {},
   "outputs": [
    {
     "name": "stdout",
     "output_type": "stream",
     "text": [
      "  (0, 11)\t0.23061650387901597\n",
      "  (0, 6)\t0.3241234495558481\n",
      "  (0, 4)\t0.3241234495558481\n",
      "  (0, 1)\t0.3241234495558481\n",
      "  (0, 9)\t0.3241234495558481\n",
      "  (0, 13)\t0.23061650387901597\n",
      "  (0, 8)\t0.3241234495558481\n",
      "  (0, 12)\t0.3241234495558481\n",
      "  (0, 5)\t0.3241234495558481\n",
      "  (0, 7)\t0.3241234495558481\n",
      "  (0, 16)\t0.23061650387901597\n",
      "  (1, 15)\t0.36469322896147516\n",
      "  (1, 3)\t0.36469322896147516\n",
      "  (1, 10)\t0.36469322896147516\n",
      "  (1, 0)\t0.36469322896147516\n",
      "  (1, 2)\t0.36469322896147516\n",
      "  (1, 14)\t0.36469322896147516\n",
      "  (1, 11)\t0.2594822360637418\n",
      "  (1, 13)\t0.2594822360637418\n",
      "  (1, 16)\t0.2594822360637418\n"
     ]
    }
   ],
   "source": [
    "print(tfidf_matrix)"
   ]
  },
  {
   "cell_type": "code",
   "execution_count": 4,
   "id": "e9baaf5c-bcdd-42c0-8cc2-46d8c2d76ce1",
   "metadata": {},
   "outputs": [],
   "source": [
    "#0번이 첫번째 문장, 1번이 두번쨰 문장 , 11, 6,4,..은 각 단어를 인덱스 준거"
   ]
  },
  {
   "cell_type": "code",
   "execution_count": 5,
   "id": "970a626a-97b1-47a8-926d-6785c6ac0e3f",
   "metadata": {},
   "outputs": [
    {
     "name": "stdout",
     "output_type": "stream",
     "text": [
      "17\n"
     ]
    }
   ],
   "source": [
    "idf = tfidf_vectorizer.idf_\n",
    "word_dict = dict(zip(tfidf_vectorizer.get_feature_names(), idf))\n",
    "print(len(word_dict))"
   ]
  },
  {
   "cell_type": "code",
   "execution_count": 6,
   "id": "9d17981d-4c7c-4eca-aa68-01e66a4a0769",
   "metadata": {},
   "outputs": [
    {
     "name": "stdout",
     "output_type": "stream",
     "text": [
      "{'갑작스런': 1.4054651081081644, '내일': 1.4054651081081644, '놀러왔다가': 1.4054651081081644, '망연자실': 1.4054651081081644, '반가운': 1.4054651081081644, '서쪽': 1.4054651081081644, '소식': 1.4054651081081644, '오늘': 1.4054651081081644, '으로': 1.4054651081081644, '이어졌는데요': 1.4054651081081644, '인해': 1.4054651081081644, '있습니다': 1.0, '중심': 1.4054651081081644, '폭염': 1.0, '피해서': 1.4054651081081644, '하고': 1.4054651081081644, '휴일': 1.0}\n"
     ]
    }
   ],
   "source": [
    "print(word_dict)"
   ]
  },
  {
   "cell_type": "markdown",
   "id": "0cb9f0c1-6147-43d0-85a7-6e69fc9163cd",
   "metadata": {},
   "source": [
    "### 유사도(Similarity) 종류\n",
    "1. 자카드 유사도\n",
    "2. 코사인 유사도\n",
    "3. 유클리디안 유사도\n",
    "4. 멘하탄 유사도"
   ]
  },
  {
   "cell_type": "markdown",
   "id": "82e472db-c6de-4bc0-a352-181b589b1ff0",
   "metadata": {},
   "source": [
    "## 1. 자카드(Jaccard) 유사도\n",
    "- 벡터화 없이 유사도 측정 가능  \n",
    "- 두 문장을 각각 단어의 집합으로 만든 뒤 두 집합을 통해 유사도 측정  \n",
    "- 두 잡합의 교집합인 공통된 단어의 개수를 전체 단어의 수로 나눔(0 ~ 1)  \n",
    "- 결과가 1에 가까울 수록 유사도가 높다는 의미(공통 단어가 많다는 의미)  \n",
    "- A, B 는 각 문장을 의미, token은 각 단어를 의미 할 경우 수식은 다음과 같음  \n",
    "## J(A, B) = $\\frac {|A\\, \\cap \\, B|} {|A\\, \\cup \\, B|}$ = $\\frac {|token\\,in\\, A\\, \\cap\\, token\\, in\\, B|} {|token\\, in\\, A\\, \\cup\\, token\\, in\\, B|}$\n"
   ]
  },
  {
   "cell_type": "code",
   "execution_count": 8,
   "id": "f6737f26-8b8a-4b25-bb15-b2071c73b40d",
   "metadata": {},
   "outputs": [
    {
     "data": {
      "text/plain": [
       "array([0.5, 1. , 0. ])"
      ]
     },
     "execution_count": 8,
     "metadata": {},
     "output_type": "execute_result"
    }
   ],
   "source": [
    "from sklearn.metrics import jaccard_score\n",
    "jaccard_score(np.array([1,1,0,0]), np.array([1,1,0,2]), average=None)"
   ]
  },
  {
   "cell_type": "code",
   "execution_count": 10,
   "id": "d944b6e7-0a3a-4d21-899d-1419ef03089a",
   "metadata": {},
   "outputs": [],
   "source": [
    "#jaccard_score(tfidf_matrix[0:1], tfidf_matrix[1:2])"
   ]
  },
  {
   "cell_type": "markdown",
   "id": "a2ca2ba7-3e81-4845-be0a-2773fba41783",
   "metadata": {},
   "source": [
    "## 2. 코사인 유사도  \n",
    "- 두 개의 벡터값에서 코사인 각도를 구함  \n",
    "- 코사인 유사도 값은 -1 과 1사이의 값을 가지고, 1에 가까울수록 유사함을 의미  \n",
    "- 유사도를 계산할 때 가장 널리 쓰이는 방법  \n",
    "- 다른 유사도 접근법에 비해 일반적으로 성능이 좋음  \n",
    "- 단순히 좌표상의 거리를 구하는 대신 두 벡터간의 각도를 구함, 방향성의 개념이 더해짐  \n",
    "- 두 문장이 유사하다면 같은 방향으로 가리킬 것이고, 그렇지 않다면 직교좌표로 표현될 것임  \n",
    "## $\\cos(\\theta) = \\frac {\\vec{a}\\bullet\\vec{b}} {\\parallel\\vec{a}\\parallel\\bullet\\parallel\\vec{b}\\parallel}$"
   ]
  },
  {
   "cell_type": "code",
   "execution_count": 12,
   "id": "8dc51a60-15c9-48ae-977a-627fd52e51be",
   "metadata": {},
   "outputs": [
    {
     "data": {
      "text/plain": [
       "array([[0.17952266]])"
      ]
     },
     "execution_count": 12,
     "metadata": {},
     "output_type": "execute_result"
    }
   ],
   "source": [
    "from sklearn.metrics.pairwise import cosine_similarity\n",
    "cosine_similarity(tfidf_matrix[0:1], tfidf_matrix[1:2])"
   ]
  },
  {
   "cell_type": "code",
   "execution_count": 13,
   "id": "f355851f-057e-41e7-915f-78b413b0367c",
   "metadata": {},
   "outputs": [
    {
     "name": "stdout",
     "output_type": "stream",
     "text": [
      "  (0, 11)\t0.23061650387901597\n",
      "  (0, 6)\t0.3241234495558481\n",
      "  (0, 4)\t0.3241234495558481\n",
      "  (0, 1)\t0.3241234495558481\n",
      "  (0, 9)\t0.3241234495558481\n",
      "  (0, 13)\t0.23061650387901597\n",
      "  (0, 8)\t0.3241234495558481\n",
      "  (0, 12)\t0.3241234495558481\n",
      "  (0, 5)\t0.3241234495558481\n",
      "  (0, 7)\t0.3241234495558481\n",
      "  (0, 16)\t0.23061650387901597\n"
     ]
    }
   ],
   "source": [
    "print(tfidf_matrix[0:1])"
   ]
  },
  {
   "cell_type": "code",
   "execution_count": 14,
   "id": "19311d7c-cbc9-4773-b0e3-c795fec97c77",
   "metadata": {},
   "outputs": [
    {
     "name": "stdout",
     "output_type": "stream",
     "text": [
      "  (0, 15)\t0.36469322896147516\n",
      "  (0, 3)\t0.36469322896147516\n",
      "  (0, 10)\t0.36469322896147516\n",
      "  (0, 0)\t0.36469322896147516\n",
      "  (0, 2)\t0.36469322896147516\n",
      "  (0, 14)\t0.36469322896147516\n",
      "  (0, 11)\t0.2594822360637418\n",
      "  (0, 13)\t0.2594822360637418\n",
      "  (0, 16)\t0.2594822360637418\n"
     ]
    }
   ],
   "source": [
    "print(tfidf_matrix[1:2])"
   ]
  },
  {
   "cell_type": "markdown",
   "id": "6acbb86f-2b34-486e-8b2e-ff79c0a78807",
   "metadata": {},
   "source": [
    "## 3. 유클리디안 유사도\n",
    "- 가장 기본적인 거리를 측정하는 유사도  \n",
    "## d(x, y) = $\\sqrt{(x_{1} - y_{1})^2 + (x_{2} - y_{2})^2 + ... + (x_{n} - y_{n})^2}$"
   ]
  },
  {
   "cell_type": "code",
   "execution_count": 18,
   "id": "e6941ba8-6c86-46a6-b20a-bd259be6961e",
   "metadata": {},
   "outputs": [
    {
     "name": "stdout",
     "output_type": "stream",
     "text": [
      "[[1.28099753]]\n"
     ]
    }
   ],
   "source": [
    "from sklearn.metrics.pairwise import euclidean_distances\n",
    "print(euclidean_distances(tfidf_matrix[0:1], tfidf_matrix[1:2]))"
   ]
  },
  {
   "cell_type": "markdown",
   "id": "d21d18b7-67a0-4ecf-9088-f2211b2c7586",
   "metadata": {},
   "source": [
    "- 유클리디안 유사도의 값은 단순히 두 점 사이의 거리를 뜻하기 때문에 값이 상당히 커질 수 있음\n",
    "- 0과 1사이의 값을 갖도록 정규화 함\n",
    "- L1 정규화 사용(각 벡터 안의 요소 값을 모두 더한 값이 크기가 1이 되도록 조정)"
   ]
  },
  {
   "cell_type": "code",
   "execution_count": 21,
   "id": "fdff7513-6567-4552-9d4a-790d1ccb36d1",
   "metadata": {},
   "outputs": [
    {
     "name": "stdout",
     "output_type": "stream",
     "text": [
      "[[0.20491229]]\n"
     ]
    }
   ],
   "source": [
    "def l1_normalize(v):\n",
    "    norm = np.sum(v)\n",
    "    return v / norm\n",
    "\n",
    "tfidf_norm_l1 = l1_normalize(tfidf_matrix)\n",
    "print(euclidean_distances(tfidf_norm_l1[0:1], tfidf_norm_l1[1:2]))"
   ]
  },
  {
   "cell_type": "markdown",
   "id": "d7dc502e-ad8d-45e4-9e96-8b97f996ffe4",
   "metadata": {},
   "source": [
    "## 4. 맨하탄 유사도\n",
    "- 맨하탄 거리를 통해 유사도를 구하는 방법  \n",
    "- 사각형 격자로 이루어진 지도에서, 출발점에서 도착점까지를 가로지르지 않고 갈 수 있는 최단거리를 구함  \n",
    "- 유클리디안 거리를 L2거리 라고 부르고, 맨하탄 거리를 L1거리 라고 부름  \n",
    "## MaDistance = $\\sum_{i=1}^n {|a_{i} - b_{i}|}$  \n",
    "- 맨하탄 유사도 또한 L1 정규화 방법을 통해 0과 1 사이의 값을 갖도록 조정"
   ]
  },
  {
   "cell_type": "code",
   "execution_count": 23,
   "id": "effc196f-7585-480f-9db4-18add586c410",
   "metadata": {},
   "outputs": [
    {
     "name": "stdout",
     "output_type": "stream",
     "text": [
      "[[0.77865927]]\n"
     ]
    }
   ],
   "source": [
    "from sklearn.metrics.pairwise import manhattan_distances\n",
    "print(manhattan_distances(tfidf_norm_l1[0:1], tfidf_norm_l1[1:2]))"
   ]
  },
  {
   "cell_type": "code",
   "execution_count": null,
   "id": "086038f8-46c2-4085-8463-8aa396622b87",
   "metadata": {},
   "outputs": [],
   "source": []
  }
 ],
 "metadata": {
  "kernelspec": {
   "display_name": "Python 3 (ipykernel)",
   "language": "python",
   "name": "python3"
  },
  "language_info": {
   "codemirror_mode": {
    "name": "ipython",
    "version": 3
   },
   "file_extension": ".py",
   "mimetype": "text/x-python",
   "name": "python",
   "nbconvert_exporter": "python",
   "pygments_lexer": "ipython3",
   "version": "3.8.12"
  }
 },
 "nbformat": 4,
 "nbformat_minor": 5
}
