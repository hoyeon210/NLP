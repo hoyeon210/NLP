{
 "cells": [
  {
   "cell_type": "code",
   "execution_count": 1,
   "id": "a86e5e51-2686-4f24-a4c6-46e38400f0f9",
   "metadata": {},
   "outputs": [],
   "source": [
    "import pandas as pd\n",
    "import numpy as np\n",
    "import os\n",
    "from sklearn.feature_extraction.text import CountVectorizer"
   ]
  },
  {
   "cell_type": "code",
   "execution_count": 2,
   "id": "71104770-9e34-4c7c-bede-19213178b55e",
   "metadata": {},
   "outputs": [],
   "source": [
    "DATA_IN_PATH = './data_in/'\n",
    "DATA_OUT_PATH = './data_out/'\n",
    "TRAIN_CLEAN_DATA = 'train_clean.npy'\n",
    "\n",
    "train_data = pd.read_csv(DATA_IN_PATH + TRAIN_CLEAN_DATA)"
   ]
  },
  {
   "cell_type": "code",
   "execution_count": 3,
   "id": "1ed63201-eaea-4c3c-a742-8d7d66209256",
   "metadata": {},
   "outputs": [],
   "source": [
    "reviews = list(train_data['review'])\n",
    "y = np.array(train_data['sentiment'])"
   ]
  },
  {
   "cell_type": "code",
   "execution_count": 4,
   "id": "e2c42250-f87d-40cf-9892-d1e8feb44be1",
   "metadata": {},
   "outputs": [],
   "source": [
    "vectorizer = CountVectorizer(analyzer='word', max_features=5000)\n",
    "train_data_features = vectorizer.fit_transform(reviews)"
   ]
  },
  {
   "cell_type": "code",
   "execution_count": 6,
   "id": "df872fcc-1e0c-4a1a-ab9e-dde421fc2cc2",
   "metadata": {},
   "outputs": [
    {
     "name": "stdout",
     "output_type": "stream",
     "text": [
      "(25000, 5000)\n"
     ]
    }
   ],
   "source": [
    "print(train_data_features.shape)"
   ]
  },
  {
   "cell_type": "code",
   "execution_count": 8,
   "id": "efd1f8b8-dd88-4c66-9739-5ab3976e038c",
   "metadata": {},
   "outputs": [],
   "source": [
    "from sklearn.model_selection import train_test_split\n",
    "\n",
    "RANDOM_SEED = 42\n",
    "TEST_SPLIT = 0.2\n",
    "\n",
    "x_train, x_eval, y_train, y_eval = train_test_split(train_data_features, y, test_size=TEST_SPLIT, random_state=RANDOM_SEED)"
   ]
  },
  {
   "cell_type": "code",
   "execution_count": 9,
   "id": "f5ced4a9-49f9-43ff-9319-d91e8774d68b",
   "metadata": {},
   "outputs": [
    {
     "data": {
      "text/plain": [
       "RandomForestClassifier()"
      ]
     },
     "execution_count": 9,
     "metadata": {},
     "output_type": "execute_result"
    }
   ],
   "source": [
    "from sklearn.ensemble import RandomForestClassifier\n",
    "\n",
    "forest = RandomForestClassifier(n_estimators=100) # n_estimators : 의사결정트리를 100개 만들어라    \n",
    "forest.fit(x_train, y_train)"
   ]
  },
  {
   "cell_type": "code",
   "execution_count": 10,
   "id": "f10e9574-74c5-4c2f-b933-957377ef2605",
   "metadata": {},
   "outputs": [
    {
     "name": "stdout",
     "output_type": "stream",
     "text": [
      "Accuracy: 0.850000\n"
     ]
    }
   ],
   "source": [
    "print('Accuracy: %f' % forest.score(x_eval, y_eval))"
   ]
  },
  {
   "cell_type": "code",
   "execution_count": 16,
   "id": "490d86e4-3754-4d4e-ad4e-e471e8e75271",
   "metadata": {},
   "outputs": [],
   "source": [
    "TEST_CLEAN_DATA = 'test_clean.csv'\n",
    "\n",
    "test_data = pd.read_csv(DATA_IN_PATH + TEST_CLEAN_DATA)\n",
    "test_review = list(test_data['review'])"
   ]
  },
  {
   "cell_type": "code",
   "execution_count": 17,
   "id": "6074f023-77a5-46e1-845d-6b3e610d125f",
   "metadata": {},
   "outputs": [],
   "source": [
    "test_data_features = vectorizer.transform(test_review)"
   ]
  },
  {
   "cell_type": "code",
   "execution_count": 18,
   "id": "846154f6-3607-4b21-9201-ef234c273395",
   "metadata": {},
   "outputs": [],
   "source": [
    "forest_test_predicted = forest.predict(test_data_features)\n",
    "\n",
    "ids = list(test_data['id'])\n",
    "final_dataset = pd.DataFrame({'id': ids, 'sentiment':forest_test_predicted})"
   ]
  },
  {
   "cell_type": "code",
   "execution_count": 19,
   "id": "8f35440c-f2ea-4386-a5ad-d461895c4833",
   "metadata": {},
   "outputs": [],
   "source": [
    "if not os.path.exists(DATA_OUT_PATH):\n",
    "    os.makedirs(DATA_OUT_PATH)\n",
    "\n",
    "final_dataset.to_csv(DATA_OUT_PATH + 'forest_answer.csv', index=False, quoting=3)"
   ]
  },
  {
   "cell_type": "code",
   "execution_count": null,
   "id": "f6d4443c-025c-4834-a957-7692953bcbf7",
   "metadata": {},
   "outputs": [],
   "source": []
  }
 ],
 "metadata": {
  "kernelspec": {
   "display_name": "Python 3 (ipykernel)",
   "language": "python",
   "name": "python3"
  },
  "language_info": {
   "codemirror_mode": {
    "name": "ipython",
    "version": 3
   },
   "file_extension": ".py",
   "mimetype": "text/x-python",
   "name": "python",
   "nbconvert_exporter": "python",
   "pygments_lexer": "ipython3",
   "version": "3.8.11"
  }
 },
 "nbformat": 4,
 "nbformat_minor": 5
}
