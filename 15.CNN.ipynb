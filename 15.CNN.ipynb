{
 "cells": [
  {
   "cell_type": "code",
   "execution_count": 1,
   "id": "10443517-5458-4556-8791-15105661a8e3",
   "metadata": {},
   "outputs": [],
   "source": [
    "import os\n",
    "import json\n",
    "import numpy as np\n",
    "import pandas as pd\n",
    "import tensorflow as tf\n",
    "import matplotlib.pyplot as plt\n",
    "from tensorflow.keras import layers\n",
    "from tensorflow.keras.callbacks import EarlyStopping, ModelCheckpoint"
   ]
  },
  {
   "cell_type": "code",
   "execution_count": 2,
   "id": "7c1f6166-0fd9-4456-9d22-510f2cef0f7e",
   "metadata": {},
   "outputs": [],
   "source": [
    "def plot_graphs(history, string):\n",
    "    plt.plot(history.history[string])\n",
    "    plt.plot(history.history['val_' + string], '')\n",
    "    plt.xlabel('Epochs')\n",
    "    plt.ylabel(string)\n",
    "    plt.legend([string, 'val_' + string])\n",
    "    plt.show()"
   ]
  },
  {
   "cell_type": "code",
   "execution_count": 3,
   "id": "ed875af4-942a-4419-9b2b-b102bca3cec5",
   "metadata": {},
   "outputs": [],
   "source": [
    "DATA_IN_PATH = './data_in/'\n",
    "DATA_OUT_PATH = './data_out/'\n",
    "TRAIN_Q1_DATA_FILE = 'train_q1.npy'\n",
    "TRAIN_Q2_DATA_FILE = 'train_q2.npy'\n",
    "TRAIN_LABEL_DATA_FILE = 'train_label.npy'\n",
    "DATA_CONFIGS = 'data_configs.json'"
   ]
  },
  {
   "cell_type": "code",
   "execution_count": 4,
   "id": "9b06f11d-3d22-43c8-9cc1-2815aed1684b",
   "metadata": {},
   "outputs": [],
   "source": [
    "SEED_NUM = 1234\n",
    "tf.random.set_seed(SEED_NUM)"
   ]
  },
  {
   "cell_type": "code",
   "execution_count": 5,
   "id": "a60cd10c-7204-4b73-8a61-29b450630e3b",
   "metadata": {},
   "outputs": [],
   "source": [
    "q1_data = np.load(open(DATA_IN_PATH + TRAIN_Q1_DATA_FILE, 'rb'))\n",
    "q2_data = np.load(open(DATA_IN_PATH + TRAIN_Q2_DATA_FILE, 'rb'))\n",
    "labels = np.load(open(DATA_IN_PATH + TRAIN_LABEL_DATA_FILE, 'rb'))\n",
    "prepro_configs = json.load(open(DATA_IN_PATH + DATA_CONFIGS, 'r'))"
   ]
  },
  {
   "cell_type": "code",
   "execution_count": 6,
   "id": "5638396e-3d68-4a0c-bd43-129cb8518396",
   "metadata": {},
   "outputs": [],
   "source": [
    "model_name = 'cnn_similarity'\n",
    "BATCH_SIZE = 1024\n",
    "NUM_EPOCHS = 100\n",
    "VALID_SPLIT = 0.1\n",
    "MAX_LEN = 31\n",
    "\n",
    "kargs = {'model_name': model_name, 'vocab_size': prepro_configs['vocab_size'], 'word_embedding_dimension': 100, 'conv_num_filters': 300,\n",
    "         'conv_windows_size': 3, 'max_pool_seq_len': MAX_LEN, 'sent_embedding_dimension': 128, 'dropout_rate': 0.2, 'hidden_dimension': 200, 'output_dimension': 1}"
   ]
  },
  {
   "cell_type": "code",
   "execution_count": 7,
   "id": "b743d282-0259-42f3-b795-319641ccd4df",
   "metadata": {},
   "outputs": [],
   "source": [
    "class SentenceEmbedding(layers.Layer):\n",
    "    def __init__(self, **kargs):\n",
    "        super(SentenceEmbedding, self).__init__()\n",
    "        \n",
    "        self.conv = layers.Conv1D(kargs['conv_num_filters'], kargs['conv_windows_size'], activation='relu', padding='same')\n",
    "        self.max_pool = layers.MaxPool1D(kargs['max_pool_seq_len'], 1)\n",
    "        self.dense = layers.Dense(kargs['sent_embedding_dimension'], activation='relu')\n",
    "        \n",
    "    def call(self, x):\n",
    "        x = self.conv(x)\n",
    "        x = self.max_pool(x)\n",
    "        x = self.dense(x)\n",
    "        \n",
    "        return tf.squeeze(x, 1)"
   ]
  },
  {
   "cell_type": "code",
   "execution_count": 8,
   "id": "692a7d84-1b95-408e-a838-3859e5da3c37",
   "metadata": {},
   "outputs": [],
   "source": [
    "class SentenceSimilarityModel(tf.keras.Model):\n",
    "    def __init__(self, **kargs):\n",
    "        super(SentenceSimilarityModel, self).__init__(name=kargs['model_name'])\n",
    "        self.word_embedding = layers.Embedding(kargs['vocab_size'] + 1, kargs['word_embedding_dimension'])\n",
    "        self.base_encoder = SentenceEmbedding(**kargs)\n",
    "        self.hypo_encoder = SentenceEmbedding(**kargs)\n",
    "        self.dense = layers.Dense(kargs['hidden_dimension'], activation='relu')\n",
    "        self.logit = layers.Dense(kargs['output_dimension'], activation='sigmoid')\n",
    "        self.dropout = layers.Dropout(kargs['dropout_rate'])\n",
    "        \n",
    "    def call(self, x):\n",
    "        x1, x2 = x\n",
    "        b_x = self.word_embedding(x1)\n",
    "        h_x = self.word_embedding(x2)\n",
    "        b_x = self.dropout(b_x)\n",
    "        h_x = self.dropout(h_x)\n",
    "        \n",
    "        b_x = self.base_encoder(b_x)\n",
    "        h_x = self.base_encoder(h_x)\n",
    "        \n",
    "        e_x = tf.concat([b_x, h_x], -1)\n",
    "        e_x = self.dense(e_x)\n",
    "        e_x = self.dropout(e_x)\n",
    "        \n",
    "        return self.logit(e_x)"
   ]
  },
  {
   "cell_type": "code",
   "execution_count": 9,
   "id": "e794b492-778a-4db3-b201-11ee38de85dd",
   "metadata": {},
   "outputs": [],
   "source": [
    "model = SentenceSimilarityModel(**kargs)\n",
    "model.compile(optimizer=tf.keras.optimizers.Adam(1e-3), loss=tf.keras.losses.BinaryCrossentropy(), metrics=[tf.keras.metrics.BinaryAccuracy(name='accuracy')])"
   ]
  },
  {
   "cell_type": "code",
   "execution_count": 10,
   "id": "69badefb-2ce5-4bd9-a955-6dbbab91da2a",
   "metadata": {},
   "outputs": [
    {
     "name": "stdout",
     "output_type": "stream",
     "text": [
      "./data_out/cnn_similarity -- Folder already exists \n",
      "\n"
     ]
    }
   ],
   "source": [
    "earlystop_callback = EarlyStopping(monitor='val_accuracy', min_delta=0.0001, patience=3)\n",
    "checkpoint_path = DATA_OUT_PATH + model_name + '\\weights.h5'\n",
    "checkpoint_dir = os.path.dirname(checkpoint_path)\n",
    "\n",
    "if os.path.exists(checkpoint_dir):\n",
    "    print('{} -- Folder already exists \\n'.format(checkpoint_dir))\n",
    "else:\n",
    "    os.makedirs(checkpoint_dir, exist_ok=True)\n",
    "    print('{} -- Folder create complete \\n'.format(checkpoint_dir))\n",
    "    \n",
    "cp_callback = ModelCheckpoint(checkpoint_path, monitor='val_accuracy', verbose=1, save_best_only=True, save_weights_only=True)"
   ]
  },
  {
   "cell_type": "code",
   "execution_count": 11,
   "id": "e9467b97-c5e2-4b64-900d-3c22ef2352fe",
   "metadata": {},
   "outputs": [
    {
     "name": "stdout",
     "output_type": "stream",
     "text": [
      "Epoch 1/100\n",
      "263/263 [==============================] - ETA: 0s - loss: 0.5481 - accuracy: 0.7181\n",
      "Epoch 00001: val_accuracy improved from -inf to 0.69970, saving model to ./data_out/cnn_similarity\\weights.h5\n",
      "263/263 [==============================] - 54s 205ms/step - loss: 0.5481 - accuracy: 0.7181 - val_loss: 0.5377 - val_accuracy: 0.6997\n",
      "Epoch 2/100\n",
      "263/263 [==============================] - ETA: 0s - loss: 0.4387 - accuracy: 0.7948\n",
      "Epoch 00002: val_accuracy improved from 0.69970 to 0.72294, saving model to ./data_out/cnn_similarity\\weights.h5\n",
      "263/263 [==============================] - 53s 202ms/step - loss: 0.4387 - accuracy: 0.7948 - val_loss: 0.5354 - val_accuracy: 0.7229\n",
      "Epoch 3/100\n",
      "263/263 [==============================] - ETA: 0s - loss: 0.3486 - accuracy: 0.8441\n",
      "Epoch 00003: val_accuracy improved from 0.72294 to 0.81144, saving model to ./data_out/cnn_similarity\\weights.h5\n",
      "263/263 [==============================] - 53s 202ms/step - loss: 0.3486 - accuracy: 0.8441 - val_loss: 0.4452 - val_accuracy: 0.8114\n",
      "Epoch 4/100\n",
      "263/263 [==============================] - ETA: 0s - loss: 0.2714 - accuracy: 0.8823\n",
      "Epoch 00004: val_accuracy did not improve from 0.81144\n",
      "263/263 [==============================] - 53s 202ms/step - loss: 0.2714 - accuracy: 0.8823 - val_loss: 0.5486 - val_accuracy: 0.7908\n",
      "Epoch 5/100\n",
      "263/263 [==============================] - ETA: 0s - loss: 0.2178 - accuracy: 0.9088\n",
      "Epoch 00005: val_accuracy did not improve from 0.81144\n",
      "263/263 [==============================] - 53s 202ms/step - loss: 0.2178 - accuracy: 0.9088 - val_loss: 0.5943 - val_accuracy: 0.7973\n",
      "Epoch 6/100\n",
      "263/263 [==============================] - ETA: 0s - loss: 0.1814 - accuracy: 0.9248\n",
      "Epoch 00006: val_accuracy improved from 0.81144 to 0.82742, saving model to ./data_out/cnn_similarity\\weights.h5\n",
      "263/263 [==============================] - 53s 202ms/step - loss: 0.1814 - accuracy: 0.9248 - val_loss: 0.5841 - val_accuracy: 0.8274\n",
      "Epoch 7/100\n",
      "263/263 [==============================] - ETA: 0s - loss: 0.1604 - accuracy: 0.9345\n",
      "Epoch 00007: val_accuracy did not improve from 0.82742\n",
      "263/263 [==============================] - 53s 202ms/step - loss: 0.1604 - accuracy: 0.9345 - val_loss: 0.8386 - val_accuracy: 0.7694\n",
      "Epoch 8/100\n",
      "263/263 [==============================] - ETA: 0s - loss: 0.1422 - accuracy: 0.9419\n",
      "Epoch 00008: val_accuracy did not improve from 0.82742\n",
      "263/263 [==============================] - 53s 203ms/step - loss: 0.1422 - accuracy: 0.9419 - val_loss: 0.9095 - val_accuracy: 0.7587\n",
      "Epoch 9/100\n",
      "263/263 [==============================] - ETA: 0s - loss: 0.1289 - accuracy: 0.9475\n",
      "Epoch 00009: val_accuracy improved from 0.82742 to 0.83660, saving model to ./data_out/cnn_similarity\\weights.h5\n",
      "263/263 [==============================] - 54s 204ms/step - loss: 0.1289 - accuracy: 0.9475 - val_loss: 0.6222 - val_accuracy: 0.8366\n",
      "Epoch 10/100\n",
      "263/263 [==============================] - ETA: 0s - loss: 0.1180 - accuracy: 0.9524\n",
      "Epoch 00010: val_accuracy improved from 0.83660 to 0.84467, saving model to ./data_out/cnn_similarity\\weights.h5\n",
      "263/263 [==============================] - 53s 203ms/step - loss: 0.1180 - accuracy: 0.9524 - val_loss: 0.6378 - val_accuracy: 0.8447\n",
      "Epoch 11/100\n",
      "263/263 [==============================] - ETA: 0s - loss: 0.1094 - accuracy: 0.9563\n",
      "Epoch 00011: val_accuracy did not improve from 0.84467\n",
      "263/263 [==============================] - 53s 202ms/step - loss: 0.1094 - accuracy: 0.9563 - val_loss: 0.9785 - val_accuracy: 0.7916\n",
      "Epoch 12/100\n",
      "263/263 [==============================] - ETA: 0s - loss: 0.1038 - accuracy: 0.9586\n",
      "Epoch 00012: val_accuracy did not improve from 0.84467\n",
      "263/263 [==============================] - 54s 205ms/step - loss: 0.1038 - accuracy: 0.9586 - val_loss: 0.8873 - val_accuracy: 0.8045\n",
      "Epoch 13/100\n",
      "263/263 [==============================] - ETA: 0s - loss: 0.0958 - accuracy: 0.9621\n",
      "Epoch 00013: val_accuracy did not improve from 0.84467\n",
      "263/263 [==============================] - 53s 203ms/step - loss: 0.0958 - accuracy: 0.9621 - val_loss: 0.9666 - val_accuracy: 0.8041\n"
     ]
    }
   ],
   "source": [
    "history = model.fit((q1_data, q2_data), labels, batch_size=BATCH_SIZE, epochs=NUM_EPOCHS, validation_split=VALID_SPLIT, callbacks=[earlystop_callback, cp_callback])"
   ]
  },
  {
   "cell_type": "code",
   "execution_count": 12,
   "id": "963e9ecd-64e5-40ce-9e8b-1a343924d118",
   "metadata": {},
   "outputs": [
    {
     "data": {
      "image/png": "[encoded data removed]",
      "text/plain": [
       "<Figure size 432x288 with 1 Axes>"
      ]
     },
     "metadata": {
      "needs_background": "light"
     },
     "output_type": "display_data"
    }
   ],
   "source": [
    "plot_graphs(history, 'accuracy')"
   ]
  },
  {
   "cell_type": "code",
   "execution_count": 13,
   "id": "8c93b5b9-d499-4d24-ad82-a377674b9380",
   "metadata": {},
   "outputs": [
    {
     "data": {
      "image/png": "[encoded data removed]",
      "text/plain": [
       "<Figure size 432x288 with 1 Axes>"
      ]
     },
     "metadata": {
      "needs_background": "light"
     },
     "output_type": "display_data"
    }
   ],
   "source": [
    "plot_graphs(history, 'loss')"
   ]
  },
  {
   "cell_type": "code",
   "execution_count": 14,
   "id": "0ad1e25c-5504-4404-a172-87025d175ad8",
   "metadata": {},
   "outputs": [],
   "source": [
    "TEST_Q1_DATA_FILE = 'test_q1.npy'\n",
    "TEST_Q2_DATA_FILE = 'test_q2.npy'\n",
    "TEST_ID_DATA_FILE = 'test_id.npy'\n",
    "\n",
    "test_q1_data = np.load(open(DATA_IN_PATH + TEST_Q1_DATA_FILE, 'rb'))\n",
    "test_q2_data = np.load(open(DATA_IN_PATH + TEST_Q2_DATA_FILE, 'rb'))\n",
    "test_id_data = np.load(open(DATA_IN_PATH + TEST_ID_DATA_FILE, 'rb'), allow_pickle=True)"
   ]
  },
  {
   "cell_type": "code",
   "execution_count": 15,
   "id": "a5186a53-41ff-447a-a912-627ff5553feb",
   "metadata": {},
   "outputs": [],
   "source": [
    "SAVE_FILE_NM = 'weights.h5'\n",
    "model.load_weights(os.path.join(DATA_OUT_PATH, model_name, SAVE_FILE_NM))"
   ]
  },
  {
   "cell_type": "code",
   "execution_count": 16,
   "id": "4c3d9cc1-4376-4abf-a8d9-81ec405f57c4",
   "metadata": {},
   "outputs": [],
   "source": [
    "predictions = model.predict((test_q1_data, test_q2_data), batch_size=BATCH_SIZE)\n",
    "predictions = predictions.squeeze(-1)"
   ]
  },
  {
   "cell_type": "code",
   "execution_count": 17,
   "id": "73a5f257-7aee-4b09-9fa0-7f7358f43220",
   "metadata": {},
   "outputs": [],
   "source": [
    "output = pd.DataFrame( data={\"test_id\":test_id_data, \"is_duplicate\": list(predictions)} )\n",
    "output.to_csv(DATA_OUT_PATH + \"cnn_predict.csv\", index=False, quoting=3)"
   ]
  },
  {
   "cell_type": "code",
   "execution_count": null,
   "id": "74a88351-599c-423b-93bd-0b751cb0a80d",
   "metadata": {},
   "outputs": [],
   "source": []
  }
 ],
 "metadata": {
  "kernelspec": {
   "display_name": "Python 3 (ipykernel)",
   "language": "python",
   "name": "python3"
  },
  "language_info": {
   "codemirror_mode": {
    "name": "ipython",
    "version": 3
   },
   "file_extension": ".py",
   "mimetype": "text/x-python",
   "name": "python",
   "nbconvert_exporter": "python",
   "pygments_lexer": "ipython3",
   "version": "3.8.12"
  }
 },
 "nbformat": 4,
 "nbformat_minor": 5
}
